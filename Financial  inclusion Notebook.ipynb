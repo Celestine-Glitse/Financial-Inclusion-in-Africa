{
 "cells": [
  {
   "cell_type": "markdown",
   "id": "5b1167b6-724a-4e88-bfb5-c89762e2ecd2",
   "metadata": {},
   "source": [
    "# Financial Inclusion in Africa - Machine Learning Classification"
   ]
  },
  {
   "cell_type": "markdown",
   "id": "3f630443-58b9-4711-8fa6-b7c57a3b768a",
   "metadata": {},
   "source": [
    "This project aims to create a machine learning model to predict which individuals \n",
    "are most likely to have or use a bank account, which serves as an indicator of financial inclusion \n",
    "in Kenya, Rwanda, Tanzania, and Uganda. The goal is to understand the key factors \n",
    "that drive individuals' financial security and identify those who are financially included.\n",
    "\n",
    "Steps Involved:\n",
    "1. Data Loading and Exploration\n",
    "2. Data Preprocessing\n",
    "3. Model Building and Evaluation\n",
    "4. Hyperparameter Tuning\n"
   ]
  },
  {
   "cell_type": "code",
   "execution_count": 1,
   "id": "eab0d479-d0c3-4763-924f-82e2b9ac9b5d",
   "metadata": {},
   "outputs": [],
   "source": [
    "# Import necessary libraries\n",
    "\n",
    "import pandas as pd\n",
    "import numpy as np\n",
    "import matplotlib.pyplot as plt\n",
    "from sklearn.preprocessing import LabelEncoder, StandardScaler\n",
    "from sklearn.model_selection import train_test_split\n",
    "from sklearn.metrics import accuracy_score, mean_absolute_error, classification_report, confusion_matrix\n",
    "from sklearn.linear_model import LogisticRegression\n",
    "from sklearn.ensemble import RandomForestClassifier\n",
    "from sklearn.svm import SVC\n",
    "import xgboost as xgb\n",
    "from sklearn.model_selection import GridSearchCV"
   ]
  },
  {
   "cell_type": "markdown",
   "id": "3cccda75-5053-44fa-8469-c1543a875cbf",
   "metadata": {},
   "source": [
    "## Step 1: Data Loading and Exploration"
   ]
  },
  {
   "cell_type": "code",
   "execution_count": 2,
   "id": "2e42283b-9d86-43f4-a031-37f0f43c1f44",
   "metadata": {},
   "outputs": [],
   "source": [
    "# Load the datasets\n",
    "train = pd.read_csv('Train.csv')  # Training dataset\n",
    "test = pd.read_csv('Test.csv')  # Test dataset\n",
    "variable = pd.read_csv('VariableDefinitions.csv')  # Variable definitions\n",
    "ss = pd.read_csv('SampleSubmission.csv')  # Sample submission for predictions"
   ]
  },
  {
   "cell_type": "code",
   "execution_count": 3,
   "id": "9da5169d-3f18-4cd9-8a7e-cbe320c188f5",
   "metadata": {},
   "outputs": [
    {
     "data": {
      "text/html": [
       "<div>\n",
       "<style scoped>\n",
       "    .dataframe tbody tr th:only-of-type {\n",
       "        vertical-align: middle;\n",
       "    }\n",
       "\n",
       "    .dataframe tbody tr th {\n",
       "        vertical-align: top;\n",
       "    }\n",
       "\n",
       "    .dataframe thead th {\n",
       "        text-align: right;\n",
       "    }\n",
       "</style>\n",
       "<table border=\"1\" class=\"dataframe\">\n",
       "  <thead>\n",
       "    <tr style=\"text-align: right;\">\n",
       "      <th></th>\n",
       "      <th>country</th>\n",
       "      <th>year</th>\n",
       "      <th>uniqueid</th>\n",
       "      <th>bank_account</th>\n",
       "      <th>location_type</th>\n",
       "      <th>cellphone_access</th>\n",
       "      <th>household_size</th>\n",
       "      <th>age_of_respondent</th>\n",
       "      <th>gender_of_respondent</th>\n",
       "      <th>relationship_with_head</th>\n",
       "      <th>marital_status</th>\n",
       "      <th>education_level</th>\n",
       "      <th>job_type</th>\n",
       "    </tr>\n",
       "  </thead>\n",
       "  <tbody>\n",
       "    <tr>\n",
       "      <th>0</th>\n",
       "      <td>Kenya</td>\n",
       "      <td>2018</td>\n",
       "      <td>uniqueid_1</td>\n",
       "      <td>Yes</td>\n",
       "      <td>Rural</td>\n",
       "      <td>Yes</td>\n",
       "      <td>3</td>\n",
       "      <td>24</td>\n",
       "      <td>Female</td>\n",
       "      <td>Spouse</td>\n",
       "      <td>Married/Living together</td>\n",
       "      <td>Secondary education</td>\n",
       "      <td>Self employed</td>\n",
       "    </tr>\n",
       "    <tr>\n",
       "      <th>1</th>\n",
       "      <td>Kenya</td>\n",
       "      <td>2018</td>\n",
       "      <td>uniqueid_2</td>\n",
       "      <td>No</td>\n",
       "      <td>Rural</td>\n",
       "      <td>No</td>\n",
       "      <td>5</td>\n",
       "      <td>70</td>\n",
       "      <td>Female</td>\n",
       "      <td>Head of Household</td>\n",
       "      <td>Widowed</td>\n",
       "      <td>No formal education</td>\n",
       "      <td>Government Dependent</td>\n",
       "    </tr>\n",
       "    <tr>\n",
       "      <th>2</th>\n",
       "      <td>Kenya</td>\n",
       "      <td>2018</td>\n",
       "      <td>uniqueid_3</td>\n",
       "      <td>Yes</td>\n",
       "      <td>Urban</td>\n",
       "      <td>Yes</td>\n",
       "      <td>5</td>\n",
       "      <td>26</td>\n",
       "      <td>Male</td>\n",
       "      <td>Other relative</td>\n",
       "      <td>Single/Never Married</td>\n",
       "      <td>Vocational/Specialised training</td>\n",
       "      <td>Self employed</td>\n",
       "    </tr>\n",
       "  </tbody>\n",
       "</table>\n",
       "</div>"
      ],
      "text/plain": [
       "  country  year    uniqueid bank_account location_type cellphone_access  \\\n",
       "0   Kenya  2018  uniqueid_1          Yes         Rural              Yes   \n",
       "1   Kenya  2018  uniqueid_2           No         Rural               No   \n",
       "2   Kenya  2018  uniqueid_3          Yes         Urban              Yes   \n",
       "\n",
       "   household_size  age_of_respondent gender_of_respondent  \\\n",
       "0               3                 24               Female   \n",
       "1               5                 70               Female   \n",
       "2               5                 26                 Male   \n",
       "\n",
       "  relationship_with_head           marital_status  \\\n",
       "0                 Spouse  Married/Living together   \n",
       "1      Head of Household                  Widowed   \n",
       "2         Other relative     Single/Never Married   \n",
       "\n",
       "                   education_level              job_type  \n",
       "0              Secondary education         Self employed  \n",
       "1              No formal education  Government Dependent  \n",
       "2  Vocational/Specialised training         Self employed  "
      ]
     },
     "execution_count": 3,
     "metadata": {},
     "output_type": "execute_result"
    }
   ],
   "source": [
    "# View the first few rows of the training data\n",
    "train.head(3)"
   ]
  },
  {
   "cell_type": "code",
   "execution_count": 4,
   "id": "5dae3e64-e644-4e2f-b4be-d7c5ec92a6b7",
   "metadata": {},
   "outputs": [
    {
     "name": "stdout",
     "output_type": "stream",
     "text": [
      "<class 'pandas.core.frame.DataFrame'>\n",
      "RangeIndex: 23524 entries, 0 to 23523\n",
      "Data columns (total 13 columns):\n",
      " #   Column                  Non-Null Count  Dtype \n",
      "---  ------                  --------------  ----- \n",
      " 0   country                 23524 non-null  object\n",
      " 1   year                    23524 non-null  int64 \n",
      " 2   uniqueid                23524 non-null  object\n",
      " 3   bank_account            23524 non-null  object\n",
      " 4   location_type           23524 non-null  object\n",
      " 5   cellphone_access        23524 non-null  object\n",
      " 6   household_size          23524 non-null  int64 \n",
      " 7   age_of_respondent       23524 non-null  int64 \n",
      " 8   gender_of_respondent    23524 non-null  object\n",
      " 9   relationship_with_head  23524 non-null  object\n",
      " 10  marital_status          23524 non-null  object\n",
      " 11  education_level         23524 non-null  object\n",
      " 12  job_type                23524 non-null  object\n",
      "dtypes: int64(3), object(10)\n",
      "memory usage: 2.3+ MB\n"
     ]
    }
   ],
   "source": [
    "# Get an overview of the data\n",
    "train.info()"
   ]
  },
  {
   "cell_type": "code",
   "execution_count": 5,
   "id": "33c1fc4e-988b-4e67-afab-281a0dab3a9a",
   "metadata": {},
   "outputs": [
    {
     "data": {
      "text/plain": [
       "country                   0\n",
       "year                      0\n",
       "uniqueid                  0\n",
       "bank_account              0\n",
       "location_type             0\n",
       "cellphone_access          0\n",
       "household_size            0\n",
       "age_of_respondent         0\n",
       "gender_of_respondent      0\n",
       "relationship_with_head    0\n",
       "marital_status            0\n",
       "education_level           0\n",
       "job_type                  0\n",
       "dtype: int64"
      ]
     },
     "execution_count": 5,
     "metadata": {},
     "output_type": "execute_result"
    }
   ],
   "source": [
    "# Check for missing values in the dataset\n",
    "train.isnull().sum()"
   ]
  },
  {
   "cell_type": "code",
   "execution_count": 6,
   "id": "dda0076f-4fbd-49eb-a76e-2455b49e8053",
   "metadata": {},
   "outputs": [
    {
     "data": {
      "text/plain": [
       "country                      4\n",
       "year                         3\n",
       "uniqueid                  8735\n",
       "bank_account                 2\n",
       "location_type                2\n",
       "cellphone_access             2\n",
       "household_size              20\n",
       "age_of_respondent           85\n",
       "gender_of_respondent         2\n",
       "relationship_with_head       6\n",
       "marital_status               5\n",
       "education_level              6\n",
       "job_type                    10\n",
       "dtype: int64"
      ]
     },
     "execution_count": 6,
     "metadata": {},
     "output_type": "execute_result"
    }
   ],
   "source": [
    "# Check the number of unique values in each column\n",
    "train.nunique()"
   ]
  },
  {
   "cell_type": "markdown",
   "id": "4d1e44cf-08b8-4903-b33d-e284b7fe3c0d",
   "metadata": {},
   "source": [
    "## Step 2: Data Visualization"
   ]
  },
  {
   "cell_type": "code",
   "execution_count": 7,
   "id": "4de1abf9-fd6c-42b6-b5e1-6c290b79bc3a",
   "metadata": {},
   "outputs": [
    {
     "data": {
      "image/png": "[encoded data removed]",
      "text/plain": [
       "<Figure size 640x480 with 1 Axes>"
      ]
     },
     "metadata": {},
     "output_type": "display_data"
    }
   ],
   "source": [
    "plt.hist(train['age_of_respondent'], bins=20, color='skyblue')\n",
    "plt.title('Distribution of Age')\n",
    "plt.xlabel('Age')\n",
    "plt.ylabel('Frequency')\n",
    "plt.show()"
   ]
  },
  {
   "cell_type": "markdown",
   "id": "d5c671ea-f88e-47e7-81e7-aa5e91c3d2fa",
   "metadata": {},
   "source": [
    "The histogram provides a visual summary of the distribution of ages in your dataset, showing how many respondents fall into each age group.\n",
    "This visualization is useful for understanding the age distribution of the respondents. \n",
    "\n",
    "This implies that the survey or data collection method reached more younger individuals"
   ]
  },
  {
   "cell_type": "code",
   "execution_count": 8,
   "id": "619d30a4-537f-40a0-a829-f96346143a9d",
   "metadata": {},
   "outputs": [
    {
     "data": {
      "image/png": "[encoded data removed]",
      "text/plain": [
       "<Figure size 1200x700 with 1 Axes>"
      ]
     },
     "metadata": {},
     "output_type": "display_data"
    }
   ],
   "source": [
    "edu_counts = train.groupby(['education_level', 'bank_account']).size().unstack()\n",
    "\n",
    "edu_counts.plot(kind='bar', stacked=True, figsize=(12, 7), color=['gold', 'teal'])\n",
    "plt.title('Bank Account Ownership by Education Level')\n",
    "plt.ylabel('Number of Individuals')\n",
    "plt.xlabel('Education Level')\n",
    "plt.xticks(rotation=45)\n",
    "plt.show()"
   ]
  },
  {
   "cell_type": "markdown",
   "id": "935c4d6a-5362-4be0-bd19-c298ced9b523",
   "metadata": {},
   "source": [
    "Display how education levels are associated with bank account ownership and we can see that most of the people with the lower education level do not have an account number."
   ]
  },
  {
   "cell_type": "markdown",
   "id": "3952c3a9-462d-44d9-89bb-0e792f56ccd0",
   "metadata": {},
   "source": [
    "## Step 3: Data Preprocessing"
   ]
  },
  {
   "cell_type": "code",
   "execution_count": 9,
   "id": "f9222093-eee0-4799-881e-a91fb745b12b",
   "metadata": {},
   "outputs": [],
   "source": [
    "def preprocess_data(df, is_train=True):\n",
    "    \"\"\"\n",
    "    Preprocess the input dataframe for machine learning models.\n",
    "\n",
    "    This function encodes categorical variables, handles missing values, \n",
    "    and scales numerical features. It can be used for both training and test datasets.\n",
    "\n",
    "    Parameters:\n",
    "    df (pandas.DataFrame): The input dataframe to preprocess.\n",
    "    is_train (bool): Flag to indicate if the dataframe is the training set. Default is True.\n",
    "\n",
    "    Returns:\n",
    "    X (pandas.DataFrame): The feature matrix after preprocessing.\n",
    "    y (pandas.Series): The target variable. Only returned if is_train is True.\n",
    "    \"\"\"\n",
    "    from sklearn.preprocessing import LabelEncoder, StandardScaler\n",
    "    import pandas as pd\n",
    "    \n",
    "    # Encode categorical variables using LabelEncoder\n",
    "    label = LabelEncoder()\n",
    "    \n",
    "    if is_train:\n",
    "        df['bank_account'] = label.fit_transform(df['bank_account'])\n",
    "    \n",
    "    df['education_level'] = label.fit_transform(df['education_level'])\n",
    "    \n",
    "    # Convert categorical variables to dummy/indicator variables\n",
    "    df_processed = pd.get_dummies(df.drop('uniqueid', axis=1), drop_first=True).astype(int)\n",
    "    \n",
    "    if is_train:\n",
    "        # Define features (X) and target (y)\n",
    "        y = df_processed['bank_account']\n",
    "        X = df_processed.drop('bank_account', axis=1)\n",
    "        \n",
    "        # Scale the features to have mean 0 and variance 1\n",
    "        scaler = StandardScaler()\n",
    "        X_scaled = scaler.fit_transform(X)\n",
    "        \n",
    "        return X_scaled, y\n",
    "    \n",
    "    else:\n",
    "        # For the test dataset, simply return the processed features\n",
    "        X_test = df_processed\n",
    "        scaler = StandardScaler()\n",
    "        X_scaled = scaler.fit_transform(X_test)\n",
    "        \n",
    "        return X_scaled\n",
    "\n"
   ]
  },
  {
   "cell_type": "code",
   "execution_count": 10,
   "id": "9df1462a-c4ef-451f-872b-8929704c349f",
   "metadata": {},
   "outputs": [],
   "source": [
    "X, y = preprocess_data(train, is_train = True)"
   ]
  },
  {
   "cell_type": "code",
   "execution_count": 11,
   "id": "0fc90062-a071-4b0b-b541-93f87866acb0",
   "metadata": {},
   "outputs": [],
   "source": [
    "# Split the data into training and testing sets (80% training, 20% testing)\n",
    "X_train, X_test, y_train, y_test = train_test_split(X, y, test_size=0.2, random_state=42)"
   ]
  },
  {
   "cell_type": "markdown",
   "id": "79c664a0-5f70-4b99-b773-2ff29fc024c3",
   "metadata": {},
   "source": [
    "## Step 4: Model Building - Logistic Regression"
   ]
  },
  {
   "cell_type": "code",
   "execution_count": 12,
   "id": "b34939c7-1417-46a8-a9e1-7d970ce70a21",
   "metadata": {},
   "outputs": [
    {
     "name": "stdout",
     "output_type": "stream",
     "text": [
      "Logistic Regression - Accuracy: 0.8857, Mean Absolute Error: 0.1143\n"
     ]
    }
   ],
   "source": [
    "# Initialize and fit the Logistic Regression model\n",
    "lr = LogisticRegression()\n",
    "model = lr.fit(X_train, y_train)\n",
    "\n",
    "# Predict on the test set\n",
    "y_pred = lr.predict(X_test)\n",
    "\n",
    "# Evaluate the model\n",
    "accuracy = accuracy_score(y_pred, y_test)\n",
    "mae = mean_absolute_error(y_pred, y_test)\n",
    "print(f\"Logistic Regression - Accuracy: {accuracy:.4f}, Mean Absolute Error: {mae:.4f}\")\n"
   ]
  },
  {
   "cell_type": "markdown",
   "id": "e3ef6d77-8941-4f22-82d2-4714a961889f",
   "metadata": {},
   "source": [
    "## Step 5: Model Building - Random Forest"
   ]
  },
  {
   "cell_type": "code",
   "execution_count": 13,
   "id": "bda61f30-6d7e-4ca8-bd1e-ff1fc88ee497",
   "metadata": {},
   "outputs": [
    {
     "name": "stdout",
     "output_type": "stream",
     "text": [
      "Random Forest - Accuracy: 0.8648, Mean Absolute Error: 0.1352\n"
     ]
    }
   ],
   "source": [
    "# Initialize and fit the Random Forest model\n",
    "rf = RandomForestClassifier()\n",
    "rf.fit(X_train, y_train)\n",
    "\n",
    "# Predict on the test set\n",
    "y_pred = rf.predict(X_test)\n",
    "\n",
    "# Evaluate the model\n",
    "print(f\"Random Forest - Accuracy: {accuracy_score(y_pred, y_test):.4f}, Mean Absolute Error: {mean_absolute_error(y_pred, y_test):.4f}\")"
   ]
  },
  {
   "cell_type": "markdown",
   "id": "a516ec21-2b23-4389-b6fe-509900fb6eb0",
   "metadata": {},
   "source": [
    "## Step 6: Model Building - Support Vector Machine (SVM)"
   ]
  },
  {
   "cell_type": "code",
   "execution_count": 14,
   "id": "ec9b98bf-2a40-41bf-bf66-8d5cc8a8635c",
   "metadata": {},
   "outputs": [
    {
     "name": "stdout",
     "output_type": "stream",
     "text": [
      "SVM - Accuracy: 0.8735, Mean Absolute Error: 0.1265\n"
     ]
    }
   ],
   "source": [
    "# Initialize and fit the SVM model with a linear kernel\n",
    "svm_model = SVC(kernel='linear', random_state=42)\n",
    "svm_model.fit(X_train, y_train)\n",
    "\n",
    "# Predict on the test set\n",
    "y_pred = svm_model.predict(X_test)\n",
    "\n",
    "# Evaluate the model\n",
    "print(f\"SVM - Accuracy: {accuracy_score(y_pred, y_test):.4f}, Mean Absolute Error: {mean_absolute_error(y_pred, y_test):.4f}\")"
   ]
  },
  {
   "cell_type": "markdown",
   "id": "0b806c6b-9cc9-45aa-aa1c-64539bd9fb96",
   "metadata": {},
   "source": [
    "## Step 7: Model Building and Hyperparameter Tuning - XGBoost"
   ]
  },
  {
   "cell_type": "code",
   "execution_count": 16,
   "id": "684beac6-21a0-486b-90cc-a78f53c4cf95",
   "metadata": {},
   "outputs": [
    {
     "name": "stdout",
     "output_type": "stream",
     "text": [
      "Fitting 5 folds for each of 729 candidates, totalling 3645 fits\n"
     ]
    },
    {
     "name": "stderr",
     "output_type": "stream",
     "text": [
      "C:\\Users\\hemed\\.conda\\envs\\Python\\Lib\\site-packages\\xgboost\\core.py:158: UserWarning: [23:32:47] WARNING: C:\\buildkite-agent\\builds\\buildkite-windows-cpu-autoscaling-group-i-0015a694724fa8361-1\\xgboost\\xgboost-ci-windows\\src\\learner.cc:740: \n",
      "Parameters: { \"use_label_encoder\" } are not used.\n",
      "\n",
      "  warnings.warn(smsg, UserWarning)\n"
     ]
    },
    {
     "name": "stdout",
     "output_type": "stream",
     "text": [
      "Best Parameters: {'colsample_bytree': 1.0, 'gamma': 0.1, 'learning_rate': 0.2, 'max_depth': 3, 'n_estimators': 50, 'subsample': 0.7}\n",
      "Best Cross-Validation Score: 0.8888\n",
      "Classification Report:\n",
      "              precision    recall  f1-score   support\n",
      "\n",
      "           0       0.90      0.98      0.94      4063\n",
      "           1       0.70      0.35      0.46       642\n",
      "\n",
      "    accuracy                           0.89      4705\n",
      "   macro avg       0.80      0.66      0.70      4705\n",
      "weighted avg       0.88      0.89      0.87      4705\n",
      "\n",
      "Confusion Matrix:\n",
      "[[3967   96]\n",
      " [ 419  223]]\n",
      "XGBoost - Mean Absolute Error: 0.1095\n"
     ]
    }
   ],
   "source": [
    "# Set up the parameter grid for hyperparameter tuning\n",
    "param_grid = {\n",
    "    'n_estimators': [50, 100, 200],\n",
    "    'learning_rate': [0.01, 0.1, 0.2],\n",
    "    'max_depth': [3, 5, 7],\n",
    "    'subsample': [0.7, 0.8, 1.0],\n",
    "    'colsample_bytree': [0.7, 0.8, 1.0],\n",
    "    'gamma': [0, 0.1, 0.2]\n",
    "}\n",
    "\n",
    "# Initialize and set up the GridSearchCV for XGBoost\n",
    "xgb_model = xgb.XGBClassifier(use_label_encoder=False, eval_metric='logloss')\n",
    "grid_search = GridSearchCV(xgb_model, param_grid, cv=5, scoring='accuracy', n_jobs=-1, verbose=1)\n",
    "\n",
    "# Fit the grid search to the training data\n",
    "grid_search.fit(X_train, y_train)\n",
    "\n",
    "# Get the best parameters and best cross-validation score\n",
    "print(f\"Best Parameters: {grid_search.best_params_}\")\n",
    "print(f\"Best Cross-Validation Score: {grid_search.best_score_:.4f}\")\n",
    "\n",
    "# Evaluate the best model on the test data\n",
    "best_model = grid_search.best_estimator_\n",
    "y_pred = best_model.predict(X_test)\n",
    "\n",
    "# Print classification report and confusion matrix for detailed evaluation\n",
    "print(\"Classification Report:\")\n",
    "print(classification_report(y_test, y_pred))\n",
    "\n",
    "print(\"Confusion Matrix:\")\n",
    "print(confusion_matrix(y_test, y_pred))\n",
    "\n",
    "# Print the mean absolute error\n",
    "print(f\"XGBoost - Mean Absolute Error: {mean_absolute_error(y_test, y_pred):.4f}\")"
   ]
  },
  {
   "cell_type": "markdown",
   "id": "a2a511f9-b4f7-4dfc-9a33-5ee450ede690",
   "metadata": {},
   "source": [
    "#### Observations\n",
    "High True Negatives (TN): The model is very good at correctly identifying individuals who do not have a bank account (5926 out of 6073 actual negatives).\n",
    "Moderate False Negatives (FN): There are 624 instances where the model fails to identify individuals who actually have a bank account. This suggests that the model is somewhat conservative and might under-predict the presence of bank accounts.\n",
    "Moderate Precision and Low Recall: The precision is decent at 71.1%, meaning that when the model predicts a bank account, it is usually correct. However, the low recall of 36.6% indicates that the model misses a significant number of individuals who do have a bank account."
   ]
  },
  {
   "cell_type": "markdown",
   "id": "fc1dcf7f-9db2-4564-83ec-a86c1b477c4e",
   "metadata": {},
   "source": [
    "## Conclusion\n",
    "\n",
    "The Model Building and Hyperparameter Tuning - XGBoost gave the best metrics (lowest mean absolute error and highest accuracy) implying that it the best model so we will use it to predict the test"
   ]
  },
  {
   "cell_type": "markdown",
   "id": "7b5e5fdd-b8eb-40c7-8f4b-4a5d7614f270",
   "metadata": {},
   "source": [
    "## Predicting Bank account for the test data"
   ]
  },
  {
   "cell_type": "code",
   "execution_count": null,
   "id": "c81d7606-204f-435c-a2d2-6dfc9b953546",
   "metadata": {},
   "outputs": [],
   "source": [
    "test.head(3)"
   ]
  },
  {
   "cell_type": "code",
   "execution_count": null,
   "id": "ff3a4436-8859-4b56-818a-cd4879acd2a1",
   "metadata": {},
   "outputs": [],
   "source": [
    "# Preprocessing test\n",
    "processed_test = preprocess_data(test, is_train = False)"
   ]
  },
  {
   "cell_type": "code",
   "execution_count": null,
   "id": "6dc4cd7e-f7eb-475a-9702-1dc61824fb8d",
   "metadata": {},
   "outputs": [],
   "source": [
    "# Get the predicted result for the test Data\n",
    "\n",
    "test.bank_account = best_model.predict(processed_test)\n",
    "\n",
    "# Create submission DataFrame\n",
    "submission = pd.DataFrame({\"uniqueid\": test[\"uniqueid\"] + \" x \" + test[\"country\"],\n",
    "                           \"bank_account\": test.bank_account})\n",
    "\n",
    "#show the five sample\n",
    "submission.sample(5)"
   ]
  },
  {
   "cell_type": "code",
   "execution_count": null,
   "id": "911aa529-3c26-4648-abce-8d1d5f2b3551",
   "metadata": {},
   "outputs": [],
   "source": [
    "# Save the submission file\n",
    "submission.to_csv('first_submission.csv', index=False)\n",
    "\n",
    "# Create a download link\n",
    "from IPython.display import FileLink\n",
    "FileLink('first_submission.csv')"
   ]
  },
  {
   "cell_type": "markdown",
   "id": "61895cb1-e751-4592-8c01-3fbb267e6b5d",
   "metadata": {},
   "source": [
    "### Steps \n",
    "\n",
    "#### Data Loading and Exploration \n",
    "The datasets are loaded, and the structure of the training dataset is examined. Basic data quality checks are performed, including checking for missing values and unique values in each column.\n",
    "\n",
    "#### Visualization\n",
    "A bar chart is created to visualize the distribution of the target variable (bank_account), showing how many individuals have or don't have a bank account.\n",
    "\n",
    "#### Data Preprocessing\n",
    "Categorical variables are encoded using LabelEncoder.\n",
    "Dummy variables are created for categorical features.\n",
    "Features and the target variable are defined.\n",
    "The data is standardized using StandardScaler to prepare for model training.\n",
    "\n",
    "#### Model Training and Evaluation\n",
    "Logistic Regression: A simple logistic regression model is trained and evaluated.\n",
    "Random Forest: A more complex model (Random Forest) is trained and evaluated.\n",
    "Support Vector Machine (SVM): Another model (SVM with a linear kernel) is trained and evaluated.\n",
    "XGBoost with Hyperparameter Tuning: XGBoost, a powerful gradient boosting model, is used with hyperparameter tuning via GridSearchCV to find the best model configuration.\n",
    "\n",
    "#### Model Evaluation \n",
    "For each model, accuracy and mean absolute error are computed to assess performance. The best model from the grid search is further evaluated using a classification report and confusion matrix."
   ]
  },
  {
   "cell_type": "code",
   "execution_count": null,
   "id": "1325598b-2c30-4861-a871-6d33fcdedc3f",
   "metadata": {},
   "outputs": [],
   "source": []
  }
 ],
 "metadata": {
  "kernelspec": {
   "display_name": "Python 3 (ipykernel)",
   "language": "python",
   "name": "python3"
  },
  "language_info": {
   "codemirror_mode": {
    "name": "ipython",
    "version": 3
   },
   "file_extension": ".py",
   "mimetype": "text/x-python",
   "name": "python",
   "nbconvert_exporter": "python",
   "pygments_lexer": "ipython3",
   "version": "3.11.7"
  }
 },
 "nbformat": 4,
 "nbformat_minor": 5
}
